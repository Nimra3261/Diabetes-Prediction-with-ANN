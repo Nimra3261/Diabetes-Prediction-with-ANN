{
 "cells": [
  {
   "cell_type": "code",
   "execution_count": 4,
   "id": "6ff88458",
   "metadata": {},
   "outputs": [],
   "source": [
    "import numpy as np\n",
    "import itertools\n",
    "import os\n",
    "import pandas as pd\n",
    "import seaborn as sea\n",
    "\n",
    "from sklearn.preprocessing import StandardScaler\n",
    "from sklearn.model_selection import train_test_split\n",
    "from sklearn.linear_model import LogisticRegression\n",
    "from sklearn.metrics import classification_report\n",
    "from sklearn.neural_network import MLPClassifier\n",
    "from sklearn.feature_selection import RFE\n",
    "\n",
    "import xgboost as xgb\n",
    "from xgboost import plot_importance\n",
    "\n",
    "import matplotlib.pyplot as plt\n",
    "import matplotlib.gridspec as gridspec"
   ]
  },
  {
   "cell_type": "code",
   "execution_count": 3,
   "id": "625fd9e0",
   "metadata": {},
   "outputs": [
    {
     "name": "stdout",
     "output_type": "stream",
     "text": [
      "Collecting xgboost\n",
      "  Using cached xgboost-2.0.2-py3-none-win_amd64.whl (99.8 MB)\n",
      "Requirement already satisfied: numpy in c:\\users\\zain khalid\\anaconda3\\lib\\site-packages (from xgboost) (1.22.4)\n",
      "Requirement already satisfied: scipy in c:\\users\\zain khalid\\anaconda3\\lib\\site-packages (from xgboost) (1.7.3)\n",
      "Installing collected packages: xgboost\n",
      "Successfully installed xgboost-2.0.2\n",
      "Note: you may need to restart the kernel to use updated packages.\n"
     ]
    }
   ],
   "source": [
    "pip install xgboost"
   ]
  },
  {
   "cell_type": "code",
   "execution_count": 5,
   "id": "d0435bcb",
   "metadata": {},
   "outputs": [
    {
     "name": "stderr",
     "output_type": "stream",
     "text": [
      "C:\\Users\\Zain Khalid\\AppData\\Local\\Temp\\ipykernel_17144\\255637763.py:3: FutureWarning: this method is deprecated in favour of `Styler.format(precision=..)`\n",
      "  data.head(10).style.set_precision(2). \\\n"
     ]
    },
    {
     "data": {
      "text/html": [
       "<style type=\"text/css\">\n",
       "#T_ead18 th {\n",
       "  font-weight: bold;\n",
       "  font-size: 12px;\n",
       "  text-align: center;\n",
       "}\n",
       "#T_ead18 tr:nth-child(even) {\n",
       "  background-color: #f2f2f2;\n",
       "}\n",
       "#T_ead18 tr:nth-child(odd) {\n",
       "  background-color: #fdfdfd;\n",
       "}\n",
       "#T_ead18 tr:hover {\n",
       "  background-color: #bcbcbc;\n",
       "}\n",
       "#T_ead18_row0_col0, #T_ead18_row0_col1, #T_ead18_row0_col2, #T_ead18_row0_col3, #T_ead18_row0_col4, #T_ead18_row0_col5, #T_ead18_row0_col6, #T_ead18_row0_col7, #T_ead18_row0_col8, #T_ead18_row1_col0, #T_ead18_row1_col1, #T_ead18_row1_col2, #T_ead18_row1_col3, #T_ead18_row1_col4, #T_ead18_row1_col5, #T_ead18_row1_col6, #T_ead18_row1_col7, #T_ead18_row1_col8, #T_ead18_row2_col0, #T_ead18_row2_col1, #T_ead18_row2_col2, #T_ead18_row2_col3, #T_ead18_row2_col4, #T_ead18_row2_col5, #T_ead18_row2_col6, #T_ead18_row2_col7, #T_ead18_row2_col8, #T_ead18_row3_col0, #T_ead18_row3_col1, #T_ead18_row3_col2, #T_ead18_row3_col3, #T_ead18_row3_col4, #T_ead18_row3_col5, #T_ead18_row3_col6, #T_ead18_row3_col7, #T_ead18_row3_col8, #T_ead18_row4_col0, #T_ead18_row4_col1, #T_ead18_row4_col2, #T_ead18_row4_col3, #T_ead18_row4_col4, #T_ead18_row4_col5, #T_ead18_row4_col6, #T_ead18_row4_col7, #T_ead18_row4_col8, #T_ead18_row5_col0, #T_ead18_row5_col1, #T_ead18_row5_col2, #T_ead18_row5_col3, #T_ead18_row5_col4, #T_ead18_row5_col5, #T_ead18_row5_col6, #T_ead18_row5_col7, #T_ead18_row5_col8, #T_ead18_row6_col0, #T_ead18_row6_col1, #T_ead18_row6_col2, #T_ead18_row6_col3, #T_ead18_row6_col4, #T_ead18_row6_col5, #T_ead18_row6_col6, #T_ead18_row6_col7, #T_ead18_row6_col8, #T_ead18_row7_col0, #T_ead18_row7_col1, #T_ead18_row7_col2, #T_ead18_row7_col3, #T_ead18_row7_col4, #T_ead18_row7_col5, #T_ead18_row7_col6, #T_ead18_row7_col7, #T_ead18_row7_col8, #T_ead18_row8_col0, #T_ead18_row8_col1, #T_ead18_row8_col2, #T_ead18_row8_col3, #T_ead18_row8_col4, #T_ead18_row8_col5, #T_ead18_row8_col6, #T_ead18_row8_col7, #T_ead18_row8_col8, #T_ead18_row9_col0, #T_ead18_row9_col1, #T_ead18_row9_col2, #T_ead18_row9_col3, #T_ead18_row9_col4, #T_ead18_row9_col5, #T_ead18_row9_col6, #T_ead18_row9_col7, #T_ead18_row9_col8 {\n",
       "  min-width: 60px;\n",
       "  color: #111111;\n",
       "  text-align: center;\n",
       "}\n",
       "</style>\n",
       "<table id=\"T_ead18\">\n",
       "  <thead>\n",
       "    <tr>\n",
       "      <th class=\"blank level0\" >&nbsp;</th>\n",
       "      <th id=\"T_ead18_level0_col0\" class=\"col_heading level0 col0\" >Pregnancies</th>\n",
       "      <th id=\"T_ead18_level0_col1\" class=\"col_heading level0 col1\" >Glucose</th>\n",
       "      <th id=\"T_ead18_level0_col2\" class=\"col_heading level0 col2\" >BloodPressure</th>\n",
       "      <th id=\"T_ead18_level0_col3\" class=\"col_heading level0 col3\" >SkinThickness</th>\n",
       "      <th id=\"T_ead18_level0_col4\" class=\"col_heading level0 col4\" >Insulin</th>\n",
       "      <th id=\"T_ead18_level0_col5\" class=\"col_heading level0 col5\" >BMI</th>\n",
       "      <th id=\"T_ead18_level0_col6\" class=\"col_heading level0 col6\" >DiabetesPedigreeFunction</th>\n",
       "      <th id=\"T_ead18_level0_col7\" class=\"col_heading level0 col7\" >Age</th>\n",
       "      <th id=\"T_ead18_level0_col8\" class=\"col_heading level0 col8\" >Outcome</th>\n",
       "    </tr>\n",
       "  </thead>\n",
       "  <tbody>\n",
       "    <tr>\n",
       "      <th id=\"T_ead18_level0_row0\" class=\"row_heading level0 row0\" >0</th>\n",
       "      <td id=\"T_ead18_row0_col0\" class=\"data row0 col0\" >6</td>\n",
       "      <td id=\"T_ead18_row0_col1\" class=\"data row0 col1\" >148</td>\n",
       "      <td id=\"T_ead18_row0_col2\" class=\"data row0 col2\" >72</td>\n",
       "      <td id=\"T_ead18_row0_col3\" class=\"data row0 col3\" >35</td>\n",
       "      <td id=\"T_ead18_row0_col4\" class=\"data row0 col4\" >0</td>\n",
       "      <td id=\"T_ead18_row0_col5\" class=\"data row0 col5\" >33.60</td>\n",
       "      <td id=\"T_ead18_row0_col6\" class=\"data row0 col6\" >0.63</td>\n",
       "      <td id=\"T_ead18_row0_col7\" class=\"data row0 col7\" >50</td>\n",
       "      <td id=\"T_ead18_row0_col8\" class=\"data row0 col8\" >1</td>\n",
       "    </tr>\n",
       "    <tr>\n",
       "      <th id=\"T_ead18_level0_row1\" class=\"row_heading level0 row1\" >1</th>\n",
       "      <td id=\"T_ead18_row1_col0\" class=\"data row1 col0\" >1</td>\n",
       "      <td id=\"T_ead18_row1_col1\" class=\"data row1 col1\" >85</td>\n",
       "      <td id=\"T_ead18_row1_col2\" class=\"data row1 col2\" >66</td>\n",
       "      <td id=\"T_ead18_row1_col3\" class=\"data row1 col3\" >29</td>\n",
       "      <td id=\"T_ead18_row1_col4\" class=\"data row1 col4\" >0</td>\n",
       "      <td id=\"T_ead18_row1_col5\" class=\"data row1 col5\" >26.60</td>\n",
       "      <td id=\"T_ead18_row1_col6\" class=\"data row1 col6\" >0.35</td>\n",
       "      <td id=\"T_ead18_row1_col7\" class=\"data row1 col7\" >31</td>\n",
       "      <td id=\"T_ead18_row1_col8\" class=\"data row1 col8\" >0</td>\n",
       "    </tr>\n",
       "    <tr>\n",
       "      <th id=\"T_ead18_level0_row2\" class=\"row_heading level0 row2\" >2</th>\n",
       "      <td id=\"T_ead18_row2_col0\" class=\"data row2 col0\" >8</td>\n",
       "      <td id=\"T_ead18_row2_col1\" class=\"data row2 col1\" >183</td>\n",
       "      <td id=\"T_ead18_row2_col2\" class=\"data row2 col2\" >64</td>\n",
       "      <td id=\"T_ead18_row2_col3\" class=\"data row2 col3\" >0</td>\n",
       "      <td id=\"T_ead18_row2_col4\" class=\"data row2 col4\" >0</td>\n",
       "      <td id=\"T_ead18_row2_col5\" class=\"data row2 col5\" >23.30</td>\n",
       "      <td id=\"T_ead18_row2_col6\" class=\"data row2 col6\" >0.67</td>\n",
       "      <td id=\"T_ead18_row2_col7\" class=\"data row2 col7\" >32</td>\n",
       "      <td id=\"T_ead18_row2_col8\" class=\"data row2 col8\" >1</td>\n",
       "    </tr>\n",
       "    <tr>\n",
       "      <th id=\"T_ead18_level0_row3\" class=\"row_heading level0 row3\" >3</th>\n",
       "      <td id=\"T_ead18_row3_col0\" class=\"data row3 col0\" >1</td>\n",
       "      <td id=\"T_ead18_row3_col1\" class=\"data row3 col1\" >89</td>\n",
       "      <td id=\"T_ead18_row3_col2\" class=\"data row3 col2\" >66</td>\n",
       "      <td id=\"T_ead18_row3_col3\" class=\"data row3 col3\" >23</td>\n",
       "      <td id=\"T_ead18_row3_col4\" class=\"data row3 col4\" >94</td>\n",
       "      <td id=\"T_ead18_row3_col5\" class=\"data row3 col5\" >28.10</td>\n",
       "      <td id=\"T_ead18_row3_col6\" class=\"data row3 col6\" >0.17</td>\n",
       "      <td id=\"T_ead18_row3_col7\" class=\"data row3 col7\" >21</td>\n",
       "      <td id=\"T_ead18_row3_col8\" class=\"data row3 col8\" >0</td>\n",
       "    </tr>\n",
       "    <tr>\n",
       "      <th id=\"T_ead18_level0_row4\" class=\"row_heading level0 row4\" >4</th>\n",
       "      <td id=\"T_ead18_row4_col0\" class=\"data row4 col0\" >0</td>\n",
       "      <td id=\"T_ead18_row4_col1\" class=\"data row4 col1\" >137</td>\n",
       "      <td id=\"T_ead18_row4_col2\" class=\"data row4 col2\" >40</td>\n",
       "      <td id=\"T_ead18_row4_col3\" class=\"data row4 col3\" >35</td>\n",
       "      <td id=\"T_ead18_row4_col4\" class=\"data row4 col4\" >168</td>\n",
       "      <td id=\"T_ead18_row4_col5\" class=\"data row4 col5\" >43.10</td>\n",
       "      <td id=\"T_ead18_row4_col6\" class=\"data row4 col6\" >2.29</td>\n",
       "      <td id=\"T_ead18_row4_col7\" class=\"data row4 col7\" >33</td>\n",
       "      <td id=\"T_ead18_row4_col8\" class=\"data row4 col8\" >1</td>\n",
       "    </tr>\n",
       "    <tr>\n",
       "      <th id=\"T_ead18_level0_row5\" class=\"row_heading level0 row5\" >5</th>\n",
       "      <td id=\"T_ead18_row5_col0\" class=\"data row5 col0\" >5</td>\n",
       "      <td id=\"T_ead18_row5_col1\" class=\"data row5 col1\" >116</td>\n",
       "      <td id=\"T_ead18_row5_col2\" class=\"data row5 col2\" >74</td>\n",
       "      <td id=\"T_ead18_row5_col3\" class=\"data row5 col3\" >0</td>\n",
       "      <td id=\"T_ead18_row5_col4\" class=\"data row5 col4\" >0</td>\n",
       "      <td id=\"T_ead18_row5_col5\" class=\"data row5 col5\" >25.60</td>\n",
       "      <td id=\"T_ead18_row5_col6\" class=\"data row5 col6\" >0.20</td>\n",
       "      <td id=\"T_ead18_row5_col7\" class=\"data row5 col7\" >30</td>\n",
       "      <td id=\"T_ead18_row5_col8\" class=\"data row5 col8\" >0</td>\n",
       "    </tr>\n",
       "    <tr>\n",
       "      <th id=\"T_ead18_level0_row6\" class=\"row_heading level0 row6\" >6</th>\n",
       "      <td id=\"T_ead18_row6_col0\" class=\"data row6 col0\" >3</td>\n",
       "      <td id=\"T_ead18_row6_col1\" class=\"data row6 col1\" >78</td>\n",
       "      <td id=\"T_ead18_row6_col2\" class=\"data row6 col2\" >50</td>\n",
       "      <td id=\"T_ead18_row6_col3\" class=\"data row6 col3\" >32</td>\n",
       "      <td id=\"T_ead18_row6_col4\" class=\"data row6 col4\" >88</td>\n",
       "      <td id=\"T_ead18_row6_col5\" class=\"data row6 col5\" >31.00</td>\n",
       "      <td id=\"T_ead18_row6_col6\" class=\"data row6 col6\" >0.25</td>\n",
       "      <td id=\"T_ead18_row6_col7\" class=\"data row6 col7\" >26</td>\n",
       "      <td id=\"T_ead18_row6_col8\" class=\"data row6 col8\" >1</td>\n",
       "    </tr>\n",
       "    <tr>\n",
       "      <th id=\"T_ead18_level0_row7\" class=\"row_heading level0 row7\" >7</th>\n",
       "      <td id=\"T_ead18_row7_col0\" class=\"data row7 col0\" >10</td>\n",
       "      <td id=\"T_ead18_row7_col1\" class=\"data row7 col1\" >115</td>\n",
       "      <td id=\"T_ead18_row7_col2\" class=\"data row7 col2\" >0</td>\n",
       "      <td id=\"T_ead18_row7_col3\" class=\"data row7 col3\" >0</td>\n",
       "      <td id=\"T_ead18_row7_col4\" class=\"data row7 col4\" >0</td>\n",
       "      <td id=\"T_ead18_row7_col5\" class=\"data row7 col5\" >35.30</td>\n",
       "      <td id=\"T_ead18_row7_col6\" class=\"data row7 col6\" >0.13</td>\n",
       "      <td id=\"T_ead18_row7_col7\" class=\"data row7 col7\" >29</td>\n",
       "      <td id=\"T_ead18_row7_col8\" class=\"data row7 col8\" >0</td>\n",
       "    </tr>\n",
       "    <tr>\n",
       "      <th id=\"T_ead18_level0_row8\" class=\"row_heading level0 row8\" >8</th>\n",
       "      <td id=\"T_ead18_row8_col0\" class=\"data row8 col0\" >2</td>\n",
       "      <td id=\"T_ead18_row8_col1\" class=\"data row8 col1\" >197</td>\n",
       "      <td id=\"T_ead18_row8_col2\" class=\"data row8 col2\" >70</td>\n",
       "      <td id=\"T_ead18_row8_col3\" class=\"data row8 col3\" >45</td>\n",
       "      <td id=\"T_ead18_row8_col4\" class=\"data row8 col4\" >543</td>\n",
       "      <td id=\"T_ead18_row8_col5\" class=\"data row8 col5\" >30.50</td>\n",
       "      <td id=\"T_ead18_row8_col6\" class=\"data row8 col6\" >0.16</td>\n",
       "      <td id=\"T_ead18_row8_col7\" class=\"data row8 col7\" >53</td>\n",
       "      <td id=\"T_ead18_row8_col8\" class=\"data row8 col8\" >1</td>\n",
       "    </tr>\n",
       "    <tr>\n",
       "      <th id=\"T_ead18_level0_row9\" class=\"row_heading level0 row9\" >9</th>\n",
       "      <td id=\"T_ead18_row9_col0\" class=\"data row9 col0\" >8</td>\n",
       "      <td id=\"T_ead18_row9_col1\" class=\"data row9 col1\" >125</td>\n",
       "      <td id=\"T_ead18_row9_col2\" class=\"data row9 col2\" >96</td>\n",
       "      <td id=\"T_ead18_row9_col3\" class=\"data row9 col3\" >0</td>\n",
       "      <td id=\"T_ead18_row9_col4\" class=\"data row9 col4\" >0</td>\n",
       "      <td id=\"T_ead18_row9_col5\" class=\"data row9 col5\" >0.00</td>\n",
       "      <td id=\"T_ead18_row9_col6\" class=\"data row9 col6\" >0.23</td>\n",
       "      <td id=\"T_ead18_row9_col7\" class=\"data row9 col7\" >54</td>\n",
       "      <td id=\"T_ead18_row9_col8\" class=\"data row9 col8\" >1</td>\n",
       "    </tr>\n",
       "  </tbody>\n",
       "</table>\n"
      ],
      "text/plain": [
       "<pandas.io.formats.style.Styler at 0x17fe5ec1cd0>"
      ]
     },
     "execution_count": 5,
     "metadata": {},
     "output_type": "execute_result"
    }
   ],
   "source": [
    "data = pd.read_csv(\"diabetes.csv\")\n",
    "\n",
    "data.head(10).style.set_precision(2). \\\n",
    "                    set_properties(**{\"min-width\": \"60px\"}). \\\n",
    "                    set_properties(**{\"color\": \"#111111\"}). \\\n",
    "                    set_properties(**{\"text-align\": \"center\"}). \\\n",
    "                    set_table_styles([\n",
    "                          {\"selector\": \"th\",\n",
    "                           \"props\": [(\"font-weight\", \"bold\"),\n",
    "                                     (\"font-size\", \"12px\"),\n",
    "                                     (\"text-align\", \"center\")]},\n",
    "                          {\"selector\": \"tr:nth-child(even)\",\n",
    "                           \"props\": [(\"background-color\", \"#f2f2f2\")]},\n",
    "                          {\"selector\": \"tr:nth-child(odd)\",\n",
    "                           \"props\": [(\"background-color\", \"#fdfdfd\")]},\n",
    "                          {\"selector\": \"tr:hover\",\n",
    "                           \"props\": [(\"background-color\", \"#bcbcbc\")]}])"
   ]
  },
  {
   "cell_type": "code",
   "execution_count": 6,
   "id": "2a091f8b",
   "metadata": {},
   "outputs": [
    {
     "name": "stdout",
     "output_type": "stream",
     "text": [
      "data_X info:\n",
      "\n",
      "<class 'pandas.core.frame.DataFrame'>\n",
      "RangeIndex: 768 entries, 0 to 767\n",
      "Data columns (total 8 columns):\n",
      " #   Column                    Non-Null Count  Dtype  \n",
      "---  ------                    --------------  -----  \n",
      " 0   Pregnancies               768 non-null    int64  \n",
      " 1   Glucose                   768 non-null    int64  \n",
      " 2   BloodPressure             768 non-null    int64  \n",
      " 3   SkinThickness             768 non-null    int64  \n",
      " 4   Insulin                   768 non-null    int64  \n",
      " 5   BMI                       768 non-null    float64\n",
      " 6   DiabetesPedigreeFunction  768 non-null    float64\n",
      " 7   Age                       768 non-null    int64  \n",
      "dtypes: float64(2), int64(6)\n",
      "memory usage: 48.1 KB\n",
      "\n",
      "data_Y info:\n",
      "\n",
      "<class 'pandas.core.frame.DataFrame'>\n",
      "RangeIndex: 768 entries, 0 to 767\n",
      "Data columns (total 1 columns):\n",
      " #   Column   Non-Null Count  Dtype\n",
      "---  ------   --------------  -----\n",
      " 0   Outcome  768 non-null    int64\n",
      "dtypes: int64(1)\n",
      "memory usage: 6.1 KB\n"
     ]
    }
   ],
   "source": [
    "pd.options.mode.chained_assignment = None\n",
    "\n",
    "data_X = data.loc[:, data.columns != \"Outcome\"]\n",
    "data_Y = data[[\"Outcome\"]]\n",
    "\n",
    "print(\"data_X info:\\n\")\n",
    "data_X.info()\n",
    "print(\"\\ndata_Y info:\\n\")\n",
    "data_Y.info()"
   ]
  },
  {
   "cell_type": "code",
   "execution_count": 7,
   "id": "07e87495",
   "metadata": {},
   "outputs": [
    {
     "data": {
      "text/plain": [
       "0    500\n",
       "1    268\n",
       "Name: Outcome, dtype: int64"
      ]
     },
     "execution_count": 7,
     "metadata": {},
     "output_type": "execute_result"
    }
   ],
   "source": [
    "data_Y[\"Outcome\"].value_counts()"
   ]
  },
  {
   "cell_type": "code",
   "execution_count": 8,
   "id": "ada33fe8",
   "metadata": {},
   "outputs": [],
   "source": [
    "train_X, test_X, train_Y, test_Y = train_test_split(data_X, data_Y,\n",
    "                                                    test_size=0.2,\n",
    "                                                    stratify=data_Y,\n",
    "                                                    random_state=0)\n",
    "\n",
    "train_X.reset_index(drop=True, inplace=True);\n",
    "test_X.reset_index(drop=True, inplace=True);\n",
    "train_Y.reset_index(drop=True, inplace=True);\n",
    "test_Y.reset_index(drop=True, inplace=True);"
   ]
  },
  {
   "cell_type": "code",
   "execution_count": 9,
   "id": "f243c7f6",
   "metadata": {},
   "outputs": [],
   "source": [
    "def plots(feature):\n",
    "    fig = plt.figure(constrained_layout = True, figsize=(10,3))\n",
    "    gs = gridspec.GridSpec(nrows=1, ncols=4, figure=fig)\n",
    "\n",
    "    ax1 = fig.add_subplot(gs[0,:3])    \n",
    "    sea.distplot(train_X.loc[train_Y[\"Outcome\"]==0,feature],\n",
    "                 kde = False, color = \"#004a4d\", norm_hist=False,\n",
    "                 hist_kws = dict(alpha=0.8), bins=40,\n",
    "                 label=\"Not Diabetes\", ax=ax1);\n",
    "    sea.distplot(train_X.loc[train_Y[\"Outcome\"]==1,feature],\n",
    "                 kde = False, color = \"#7d0101\", norm_hist=False,\n",
    "                 hist_kws = dict(alpha=0.6), bins=40,\n",
    "                 label=\"Diabetes\", ax=ax1);\n",
    "    ax2 = fig.add_subplot(gs[0,3])    \n",
    "    sea.boxplot(train_X[feature], orient=\"v\", color = \"#989100\",\n",
    "                width = 0.2, ax=ax2);\n",
    "    \n",
    "    ax1.legend(loc=\"upper right\");"
   ]
  },
  {
   "cell_type": "code",
   "execution_count": 10,
   "id": "207747e5",
   "metadata": {},
   "outputs": [
    {
     "name": "stderr",
     "output_type": "stream",
     "text": [
      "C:\\Users\\Zain Khalid\\anaconda3\\lib\\site-packages\\seaborn\\distributions.py:2619: FutureWarning: `distplot` is a deprecated function and will be removed in a future version. Please adapt your code to use either `displot` (a figure-level function with similar flexibility) or `histplot` (an axes-level function for histograms).\n",
      "  warnings.warn(msg, FutureWarning)\n",
      "C:\\Users\\Zain Khalid\\anaconda3\\lib\\site-packages\\seaborn\\_decorators.py:36: FutureWarning: Pass the following variable as a keyword arg: x. From version 0.12, the only valid positional argument will be `data`, and passing other arguments without an explicit keyword will result in an error or misinterpretation.\n",
      "  warnings.warn(\n",
      "C:\\Users\\Zain Khalid\\anaconda3\\lib\\site-packages\\seaborn\\_core.py:1326: UserWarning: Vertical orientation ignored with only `x` specified.\n",
      "  warnings.warn(single_var_warning.format(\"Vertical\", \"x\"))\n"
     ]
    },
    {
     "data": {
      "image/png": "[encoded data removed]",
      "text/plain": [
       "<Figure size 720x216 with 2 Axes>"
      ]
     },
     "metadata": {
      "needs_background": "light"
     },
     "output_type": "display_data"
    }
   ],
   "source": [
    "plots(\"Pregnancies\")"
   ]
  },
  {
   "cell_type": "code",
   "execution_count": 11,
   "id": "c054b539",
   "metadata": {},
   "outputs": [],
   "source": [
    "Q1 = train_X[\"Pregnancies\"].quantile(0.25)\n",
    "Q3 = train_X[\"Pregnancies\"].quantile(0.75)\n",
    "q95th = train_X[\"Pregnancies\"].quantile(0.95)\n",
    "IQR = Q3 - Q1\n",
    "UW = Q3 + 1.5*IQR\n",
    "\n",
    "train_X[\"Pregnancies\"] = np.where(train_X[\"Pregnancies\"] > UW,\n",
    "                                  q95th, train_X[\"Pregnancies\"])"
   ]
  },
  {
   "cell_type": "code",
   "execution_count": 12,
   "id": "aec76ef0",
   "metadata": {},
   "outputs": [
    {
     "name": "stderr",
     "output_type": "stream",
     "text": [
      "C:\\Users\\Zain Khalid\\anaconda3\\lib\\site-packages\\seaborn\\distributions.py:2619: FutureWarning: `distplot` is a deprecated function and will be removed in a future version. Please adapt your code to use either `displot` (a figure-level function with similar flexibility) or `histplot` (an axes-level function for histograms).\n",
      "  warnings.warn(msg, FutureWarning)\n",
      "C:\\Users\\Zain Khalid\\anaconda3\\lib\\site-packages\\seaborn\\_decorators.py:36: FutureWarning: Pass the following variable as a keyword arg: x. From version 0.12, the only valid positional argument will be `data`, and passing other arguments without an explicit keyword will result in an error or misinterpretation.\n",
      "  warnings.warn(\n",
      "C:\\Users\\Zain Khalid\\anaconda3\\lib\\site-packages\\seaborn\\_core.py:1326: UserWarning: Vertical orientation ignored with only `x` specified.\n",
      "  warnings.warn(single_var_warning.format(\"Vertical\", \"x\"))\n"
     ]
    },
    {
     "data": {
      "image/png": "[encoded data removed]",
      "text/plain": [
       "<Figure size 720x216 with 2 Axes>"
      ]
     },
     "metadata": {
      "needs_background": "light"
     },
     "output_type": "display_data"
    }
   ],
   "source": [
    "plots(\"Glucose\")"
   ]
  },
  {
   "cell_type": "code",
   "execution_count": 13,
   "id": "671ea23a",
   "metadata": {},
   "outputs": [],
   "source": [
    "med = train_X[\"Glucose\"].median()\n",
    "train_X[\"Glucose\"] = np.where(train_X[\"Glucose\"] == 0, med, train_X[\"Glucose\"])"
   ]
  },
  {
   "cell_type": "code",
   "execution_count": 14,
   "id": "be9ffc93",
   "metadata": {},
   "outputs": [
    {
     "name": "stderr",
     "output_type": "stream",
     "text": [
      "C:\\Users\\Zain Khalid\\anaconda3\\lib\\site-packages\\seaborn\\distributions.py:2619: FutureWarning: `distplot` is a deprecated function and will be removed in a future version. Please adapt your code to use either `displot` (a figure-level function with similar flexibility) or `histplot` (an axes-level function for histograms).\n",
      "  warnings.warn(msg, FutureWarning)\n",
      "C:\\Users\\Zain Khalid\\anaconda3\\lib\\site-packages\\seaborn\\_decorators.py:36: FutureWarning: Pass the following variable as a keyword arg: x. From version 0.12, the only valid positional argument will be `data`, and passing other arguments without an explicit keyword will result in an error or misinterpretation.\n",
      "  warnings.warn(\n",
      "C:\\Users\\Zain Khalid\\anaconda3\\lib\\site-packages\\seaborn\\_core.py:1326: UserWarning: Vertical orientation ignored with only `x` specified.\n",
      "  warnings.warn(single_var_warning.format(\"Vertical\", \"x\"))\n"
     ]
    },
    {
     "data": {
      "image/png": "[encoded data removed]",
      "text/plain": [
       "<Figure size 720x216 with 2 Axes>"
      ]
     },
     "metadata": {
      "needs_background": "light"
     },
     "output_type": "display_data"
    }
   ],
   "source": [
    "plots(\"BloodPressure\")"
   ]
  },
  {
   "cell_type": "code",
   "execution_count": 16,
   "id": "6e670c71",
   "metadata": {},
   "outputs": [],
   "source": [
    "med = train_X[\"BloodPressure\"].median()\n",
    "q5th = train_X[\"BloodPressure\"].quantile(0.05)\n",
    "q95th = train_X[\"BloodPressure\"].quantile(0.95)\n",
    "Q1 = train_X[\"BloodPressure\"].quantile(0.25)\n",
    "Q3 = train_X[\"BloodPressure\"].quantile(0.75)\n",
    "IQR = Q3 - Q1\n",
    "LW = Q1 - 1.5*IQR\n",
    "UW = Q3 + 1.5*IQR\n",
    "\n",
    "train_X[\"BloodPressure\"] = np.where(train_X[\"BloodPressure\"] == 0,\n",
    "                                    med, train_X[\"BloodPressure\"])\n",
    "train_X[\"BloodPressure\"] = np.where(train_X[\"BloodPressure\"] < LW,\n",
    "                                    q5th, train_X[\"BloodPressure\"])\n",
    "train_X[\"BloodPressure\"] = np.where(train_X[\"BloodPressure\"] > UW,\n",
    "                                    q95th, train_X[\"BloodPressure\"])\n"
   ]
  },
  {
   "cell_type": "code",
   "execution_count": 17,
   "id": "8f48421d",
   "metadata": {},
   "outputs": [
    {
     "name": "stderr",
     "output_type": "stream",
     "text": [
      "C:\\Users\\Zain Khalid\\anaconda3\\lib\\site-packages\\seaborn\\distributions.py:2619: FutureWarning: `distplot` is a deprecated function and will be removed in a future version. Please adapt your code to use either `displot` (a figure-level function with similar flexibility) or `histplot` (an axes-level function for histograms).\n",
      "  warnings.warn(msg, FutureWarning)\n",
      "C:\\Users\\Zain Khalid\\anaconda3\\lib\\site-packages\\seaborn\\_decorators.py:36: FutureWarning: Pass the following variable as a keyword arg: x. From version 0.12, the only valid positional argument will be `data`, and passing other arguments without an explicit keyword will result in an error or misinterpretation.\n",
      "  warnings.warn(\n",
      "C:\\Users\\Zain Khalid\\anaconda3\\lib\\site-packages\\seaborn\\_core.py:1326: UserWarning: Vertical orientation ignored with only `x` specified.\n",
      "  warnings.warn(single_var_warning.format(\"Vertical\", \"x\"))\n"
     ]
    },
    {
     "data": {
      "image/png": "[encoded data removed]",
      "text/plain": [
       "<Figure size 720x216 with 2 Axes>"
      ]
     },
     "metadata": {
      "needs_background": "light"
     },
     "output_type": "display_data"
    }
   ],
   "source": [
    "plots(\"SkinThickness\")"
   ]
  },
  {
   "cell_type": "code",
   "execution_count": 18,
   "id": "a9d1bec0",
   "metadata": {},
   "outputs": [],
   "source": [
    "med = train_X[\"SkinThickness\"].median()\n",
    "q95th = train_X[\"SkinThickness\"].quantile(0.95)\n",
    "Q1 = train_X[\"SkinThickness\"].quantile(0.25)\n",
    "Q3 = train_X[\"SkinThickness\"].quantile(0.75)\n",
    "IQR = Q3 - Q1\n",
    "UW = Q3 + 1.5*IQR\n",
    "\n",
    "train_X[\"SkinThickness\"] = np.where(train_X[\"SkinThickness\"] == 0,\n",
    "                                    med, train_X[\"SkinThickness\"])\n",
    "train_X[\"SkinThickness\"] = np.where(train_X[\"SkinThickness\"] > UW,\n",
    "                                    q95th, train_X[\"SkinThickness\"])"
   ]
  },
  {
   "cell_type": "code",
   "execution_count": 19,
   "id": "8639d69b",
   "metadata": {},
   "outputs": [
    {
     "name": "stderr",
     "output_type": "stream",
     "text": [
      "C:\\Users\\Zain Khalid\\anaconda3\\lib\\site-packages\\seaborn\\distributions.py:2619: FutureWarning: `distplot` is a deprecated function and will be removed in a future version. Please adapt your code to use either `displot` (a figure-level function with similar flexibility) or `histplot` (an axes-level function for histograms).\n",
      "  warnings.warn(msg, FutureWarning)\n",
      "C:\\Users\\Zain Khalid\\anaconda3\\lib\\site-packages\\seaborn\\_decorators.py:36: FutureWarning: Pass the following variable as a keyword arg: x. From version 0.12, the only valid positional argument will be `data`, and passing other arguments without an explicit keyword will result in an error or misinterpretation.\n",
      "  warnings.warn(\n",
      "C:\\Users\\Zain Khalid\\anaconda3\\lib\\site-packages\\seaborn\\_core.py:1326: UserWarning: Vertical orientation ignored with only `x` specified.\n",
      "  warnings.warn(single_var_warning.format(\"Vertical\", \"x\"))\n"
     ]
    },
    {
     "data": {
      "image/png": "[encoded data removed]",
      "text/plain": [
       "<Figure size 720x216 with 2 Axes>"
      ]
     },
     "metadata": {
      "needs_background": "light"
     },
     "output_type": "display_data"
    }
   ],
   "source": [
    "plots(\"Insulin\")"
   ]
  },
  {
   "cell_type": "code",
   "execution_count": 20,
   "id": "16a2c76b",
   "metadata": {},
   "outputs": [],
   "source": [
    "q60th = train_X[\"Insulin\"].quantile(0.60)\n",
    "q95th = train_X[\"Insulin\"].quantile(0.95)\n",
    "Q1 = train_X[\"Insulin\"].quantile(0.25)\n",
    "Q3 = train_X[\"Insulin\"].quantile(0.75)\n",
    "IQR = Q3 - Q1\n",
    "UW = Q3 + 1.5*IQR\n",
    "\n",
    "train_X[\"Insulin\"] = np.where(train_X[\"Insulin\"] == 0,\n",
    "                              q60th, train_X[\"Insulin\"])\n",
    "train_X[\"Insulin\"] = np.where(train_X[\"Insulin\"] > UW,\n",
    "                              q95th, train_X[\"Insulin\"])"
   ]
  },
  {
   "cell_type": "code",
   "execution_count": 21,
   "id": "59605761",
   "metadata": {},
   "outputs": [
    {
     "name": "stderr",
     "output_type": "stream",
     "text": [
      "C:\\Users\\Zain Khalid\\anaconda3\\lib\\site-packages\\seaborn\\distributions.py:2619: FutureWarning: `distplot` is a deprecated function and will be removed in a future version. Please adapt your code to use either `displot` (a figure-level function with similar flexibility) or `histplot` (an axes-level function for histograms).\n",
      "  warnings.warn(msg, FutureWarning)\n",
      "C:\\Users\\Zain Khalid\\anaconda3\\lib\\site-packages\\seaborn\\_decorators.py:36: FutureWarning: Pass the following variable as a keyword arg: x. From version 0.12, the only valid positional argument will be `data`, and passing other arguments without an explicit keyword will result in an error or misinterpretation.\n",
      "  warnings.warn(\n",
      "C:\\Users\\Zain Khalid\\anaconda3\\lib\\site-packages\\seaborn\\_core.py:1326: UserWarning: Vertical orientation ignored with only `x` specified.\n",
      "  warnings.warn(single_var_warning.format(\"Vertical\", \"x\"))\n"
     ]
    },
    {
     "data": {
      "image/png": "[encoded data removed]",
      "text/plain": [
       "<Figure size 720x216 with 2 Axes>"
      ]
     },
     "metadata": {
      "needs_background": "light"
     },
     "output_type": "display_data"
    }
   ],
   "source": [
    "plots(\"BMI\")"
   ]
  },
  {
   "cell_type": "code",
   "execution_count": 22,
   "id": "c21fc2a1",
   "metadata": {},
   "outputs": [],
   "source": [
    "med = train_X[\"BMI\"].median()\n",
    "q95th = train_X[\"BMI\"].quantile(0.95)\n",
    "Q1 = train_X[\"BMI\"].quantile(0.25)\n",
    "Q3 = train_X[\"BMI\"].quantile(0.75)\n",
    "IQR = Q3 - Q1\n",
    "UW = Q3 + 1.5*IQR\n",
    "\n",
    "train_X[\"BMI\"] = np.where(train_X[\"BMI\"] == 0,\n",
    "                          med, train_X[\"BMI\"])\n",
    "train_X[\"BMI\"] = np.where(train_X[\"BMI\"] > UW,\n",
    "                          q95th, train_X[\"BMI\"])\n"
   ]
  },
  {
   "cell_type": "code",
   "execution_count": 23,
   "id": "a677fbf3",
   "metadata": {},
   "outputs": [
    {
     "name": "stderr",
     "output_type": "stream",
     "text": [
      "C:\\Users\\Zain Khalid\\anaconda3\\lib\\site-packages\\seaborn\\distributions.py:2619: FutureWarning: `distplot` is a deprecated function and will be removed in a future version. Please adapt your code to use either `displot` (a figure-level function with similar flexibility) or `histplot` (an axes-level function for histograms).\n",
      "  warnings.warn(msg, FutureWarning)\n",
      "C:\\Users\\Zain Khalid\\anaconda3\\lib\\site-packages\\seaborn\\_decorators.py:36: FutureWarning: Pass the following variable as a keyword arg: x. From version 0.12, the only valid positional argument will be `data`, and passing other arguments without an explicit keyword will result in an error or misinterpretation.\n",
      "  warnings.warn(\n",
      "C:\\Users\\Zain Khalid\\anaconda3\\lib\\site-packages\\seaborn\\_core.py:1326: UserWarning: Vertical orientation ignored with only `x` specified.\n",
      "  warnings.warn(single_var_warning.format(\"Vertical\", \"x\"))\n"
     ]
    },
    {
     "data": {
      "image/png": "[encoded data removed]",
      "text/plain": [
       "<Figure size 720x216 with 2 Axes>"
      ]
     },
     "metadata": {
      "needs_background": "light"
     },
     "output_type": "display_data"
    }
   ],
   "source": [
    "plots(\"DiabetesPedigreeFunction\")"
   ]
  },
  {
   "cell_type": "code",
   "execution_count": 24,
   "id": "08844704",
   "metadata": {},
   "outputs": [],
   "source": [
    "q95th = train_X[\"DiabetesPedigreeFunction\"].quantile(0.95)\n",
    "Q1 = train_X[\"DiabetesPedigreeFunction\"].quantile(0.25)\n",
    "Q3 = train_X[\"DiabetesPedigreeFunction\"].quantile(0.75)\n",
    "IQR = Q3 - Q1\n",
    "UW = Q3 + 1.5*IQR\n",
    "\n",
    "train_X[\"DiabetesPedigreeFunction\"] = np.where(\n",
    "                        train_X[\"DiabetesPedigreeFunction\"] > UW,\n",
    "                        q95th, train_X[\"DiabetesPedigreeFunction\"])"
   ]
  },
  {
   "cell_type": "code",
   "execution_count": 25,
   "id": "f609828e",
   "metadata": {},
   "outputs": [
    {
     "name": "stderr",
     "output_type": "stream",
     "text": [
      "C:\\Users\\Zain Khalid\\anaconda3\\lib\\site-packages\\seaborn\\distributions.py:2619: FutureWarning: `distplot` is a deprecated function and will be removed in a future version. Please adapt your code to use either `displot` (a figure-level function with similar flexibility) or `histplot` (an axes-level function for histograms).\n",
      "  warnings.warn(msg, FutureWarning)\n",
      "C:\\Users\\Zain Khalid\\anaconda3\\lib\\site-packages\\seaborn\\_decorators.py:36: FutureWarning: Pass the following variable as a keyword arg: x. From version 0.12, the only valid positional argument will be `data`, and passing other arguments without an explicit keyword will result in an error or misinterpretation.\n",
      "  warnings.warn(\n",
      "C:\\Users\\Zain Khalid\\anaconda3\\lib\\site-packages\\seaborn\\_core.py:1326: UserWarning: Vertical orientation ignored with only `x` specified.\n",
      "  warnings.warn(single_var_warning.format(\"Vertical\", \"x\"))\n"
     ]
    },
    {
     "data": {
      "image/png": "[encoded data removed]",
      "text/plain": [
       "<Figure size 720x216 with 2 Axes>"
      ]
     },
     "metadata": {
      "needs_background": "light"
     },
     "output_type": "display_data"
    }
   ],
   "source": [
    "plots(\"Age\")"
   ]
  },
  {
   "cell_type": "code",
   "execution_count": 26,
   "id": "9453d2c6",
   "metadata": {},
   "outputs": [],
   "source": [
    "q95th = train_X[\"Age\"].quantile(0.95)\n",
    "Q1 = train_X[\"Age\"].quantile(0.25)\n",
    "Q3 = train_X[\"Age\"].quantile(0.75)\n",
    "IQR = Q3 - Q1\n",
    "UW = Q3 + 1.5*IQR\n",
    "\n",
    "train_X[\"Age\"] = np.where(train_X[\"Age\"] > UW,\n",
    "                          q95th, train_X[\"Age\"])"
   ]
  },
  {
   "cell_type": "code",
   "execution_count": 27,
   "id": "69958272",
   "metadata": {},
   "outputs": [],
   "source": [
    "feature_names = train_X.columns\n",
    "\n",
    "scaler = StandardScaler()\n",
    "\n",
    "# fit to train_X\n",
    "scaler.fit(train_X)\n",
    "\n",
    "# transform train_X\n",
    "train_X = scaler.transform(train_X)\n",
    "train_X = pd.DataFrame(train_X, columns = feature_names)\n",
    "\n",
    "# transform test_X\n",
    "test_X = scaler.transform(test_X)\n",
    "test_X = pd.DataFrame(test_X, columns = feature_names)"
   ]
  },
  {
   "cell_type": "code",
   "execution_count": 28,
   "id": "bc2bc807",
   "metadata": {},
   "outputs": [
    {
     "name": "stderr",
     "output_type": "stream",
     "text": [
      "C:\\Users\\Zain Khalid\\AppData\\Local\\Temp\\ipykernel_17144\\1762343926.py:2: DeprecationWarning: `np.bool` is a deprecated alias for the builtin `bool`. To silence this warning, use `bool` by itself. Doing this will not modify any behavior and is safe. If you specifically wanted the numpy scalar type, use `np.bool_` here.\n",
      "Deprecated in NumPy 1.20; for more details and guidance: https://numpy.org/devdocs/release/1.20.0-notes.html#deprecations\n",
      "  mask = np.triu(np.ones_like(corr_matrix, dtype=np.bool))\n"
     ]
    },
    {
     "data": {
      "image/png": "[encoded data removed]",
      "text/plain": [
       "<Figure size 720x576 with 2 Axes>"
      ]
     },
     "metadata": {
      "needs_background": "light"
     },
     "output_type": "display_data"
    }
   ],
   "source": [
    "corr_matrix = pd.concat([train_X, train_Y], axis=1).corr()\n",
    "mask = np.triu(np.ones_like(corr_matrix, dtype=np.bool))\n",
    "\n",
    "plt.figure(figsize=(10,8))\n",
    "sea.heatmap(corr_matrix,annot=True, fmt=\".4f\",\n",
    "            vmin=-1, vmax=1, linewidth = 1,\n",
    "            center=0, mask=mask,cmap=\"RdBu_r\");"
   ]
  },
  {
   "cell_type": "code",
   "execution_count": 29,
   "id": "888f0f65",
   "metadata": {},
   "outputs": [
    {
     "data": {
      "text/plain": [
       "array([[ 3.60358322e-01,  1.06754141e+00, -2.50971359e-02,\n",
       "        -9.81326043e-05, -6.49737080e-02,  5.74505582e-01,\n",
       "         3.35113887e-01,  2.71385240e-01]])"
      ]
     },
     "execution_count": 29,
     "metadata": {},
     "output_type": "execute_result"
    }
   ],
   "source": [
    "# logistic regression with l1 penalty - embedded method\n",
    "lr1 = LogisticRegression(random_state=0, penalty=\"l1\",\n",
    "            class_weight=\"balanced\", solver=\"saga\", max_iter=5000)\n",
    "lr1.fit(train_X, train_Y.values.ravel())\n",
    "\n",
    "lr1.coef_"
   ]
  },
  {
   "cell_type": "code",
   "execution_count": 30,
   "id": "41ecdc1c",
   "metadata": {},
   "outputs": [
    {
     "data": {
      "text/plain": [
       "array([[ 0.36506112,  1.07199682, -0.04073014, -0.01616834, -0.07560637,\n",
       "         0.59537491,  0.34399744,  0.28125417]])"
      ]
     },
     "execution_count": 30,
     "metadata": {},
     "output_type": "execute_result"
    }
   ],
   "source": [
    "# logistic regression with l2 penalty - embedded method\n",
    "lr2 = LogisticRegression(random_state=0, penalty=\"l2\",\n",
    "            class_weight=\"balanced\", solver=\"saga\", max_iter=5000)\n",
    "lr2.fit(train_X, train_Y.values.ravel())\n",
    "\n",
    "lr2.coef_"
   ]
  },
  {
   "cell_type": "code",
   "execution_count": 31,
   "id": "02f82456",
   "metadata": {},
   "outputs": [
    {
     "data": {
      "image/png": "[encoded data removed]",
      "text/plain": [
       "<Figure size 432x288 with 1 Axes>"
      ]
     },
     "metadata": {
      "needs_background": "light"
     },
     "output_type": "display_data"
    }
   ],
   "source": [
    "# xgboost - embedded method\n",
    "gb = xgb.XGBClassifier(booster=\"gbtree\",\n",
    "                      learning_rate=0.15,\n",
    "                      max_depth=4,\n",
    "                      n_estimators=20,\n",
    "                      random_state=0)\n",
    "gb.fit(train_X, train_Y.values.ravel())\n",
    "\n",
    "plot_importance(gb);"
   ]
  },
  {
   "cell_type": "code",
   "execution_count": 32,
   "id": "5920a117",
   "metadata": {},
   "outputs": [
    {
     "name": "stdout",
     "output_type": "stream",
     "text": [
      "[ True  True  True False  True  True  True  True]\n"
     ]
    }
   ],
   "source": [
    "# recursive feature elimination with logistic regression - wrapper method\n",
    "lr3 = LogisticRegression(random_state=0, penalty=\"l2\",\n",
    "            class_weight=\"balanced\", solver=\"saga\", max_iter=5000)\n",
    "rfe_lr3 = RFE(lr3, n_features_to_select=7)\n",
    "rfe_lr3.fit(train_X, train_Y.values.ravel())\n",
    "\n",
    "print(rfe_lr3.support_)"
   ]
  },
  {
   "cell_type": "code",
   "execution_count": 33,
   "id": "6c54cf67",
   "metadata": {},
   "outputs": [],
   "source": [
    "train_X.drop(\"SkinThickness\", axis=1, inplace=True)\n",
    "test_X.drop(\"SkinThickness\", axis=1, inplace=True)"
   ]
  },
  {
   "cell_type": "code",
   "execution_count": 34,
   "id": "7e2f994a",
   "metadata": {},
   "outputs": [],
   "source": [
    "clf = MLPClassifier(solver=\"adam\", max_iter=5000, activation = \"relu\",\n",
    "                    hidden_layer_sizes = (12),                      \n",
    "                    alpha = 0.01,\n",
    "                    batch_size = 64,\n",
    "                    learning_rate_init = 0.001,\n",
    "                    random_state=2)\n",
    "\n",
    "clf.fit(train_X, train_Y.values.ravel());"
   ]
  },
  {
   "cell_type": "code",
   "execution_count": 35,
   "id": "18d5e256",
   "metadata": {},
   "outputs": [
    {
     "name": "stdout",
     "output_type": "stream",
     "text": [
      "              precision    recall  f1-score   support\n",
      "\n",
      "Not Diabetes     0.8624    0.9400    0.8995       100\n",
      "    Diabetes     0.8667    0.7222    0.7879        54\n",
      "\n",
      "    accuracy                         0.8636       154\n",
      "   macro avg     0.8645    0.8311    0.8437       154\n",
      "weighted avg     0.8639    0.8636    0.8604       154\n",
      "\n"
     ]
    }
   ],
   "source": [
    "print(classification_report(test_Y, clf.predict(test_X),\n",
    "                            digits = 4,\n",
    "                            target_names=[\"Not Diabetes\",\n",
    "                                          \"Diabetes\"]))"
   ]
  },
  {
   "cell_type": "code",
   "execution_count": null,
   "id": "8ec8b2d0",
   "metadata": {},
   "outputs": [],
   "source": []
  }
 ],
 "metadata": {
  "kernelspec": {
   "display_name": "Python 3 (ipykernel)",
   "language": "python",
   "name": "python3"
  },
  "language_info": {
   "codemirror_mode": {
    "name": "ipython",
    "version": 3
   },
   "file_extension": ".py",
   "mimetype": "text/x-python",
   "name": "python",
   "nbconvert_exporter": "python",
   "pygments_lexer": "ipython3",
   "version": "3.9.12"
  }
 },
 "nbformat": 4,
 "nbformat_minor": 5
}
